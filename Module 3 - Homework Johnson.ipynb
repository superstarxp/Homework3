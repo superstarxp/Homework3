{
 "cells": [
  {
   "cell_type": "markdown",
   "metadata": {},
   "source": [
    "### Exercise 1\n",
    "Ask a user for 5 names and place each one in to a list called <i>names</i>. Then, print <i>names</i>."
   ]
  },
  {
   "cell_type": "code",
   "execution_count": 12,
   "metadata": {},
   "outputs": [
    {
     "name": "stdout",
     "output_type": "stream",
     "text": [
      "Please enter first name Kierra\n",
      "Please enter second name Kiana\n",
      "Please enter third name Quinn\n",
      "Please enter fourth name Devin\n",
      "Please enter fifth name Michael\n",
      "[{'Kierra'}, {'Kiana'}, {'Quinn'}, {'Devin'}, {'Michael'}]\n"
     ]
    }
   ],
   "source": [
    "name1 = input(\"Please enter first name \")\n",
    "name2 = input(\"Please enter second name \")\n",
    "name3 = input(\"Please enter third name \")\n",
    "name4 = input(\"Please enter fourth name \")\n",
    "name5 = input(\"Please enter fifth name \")\n",
    "\n",
    "names = [{name1}, {name2}, {name3}, {name4}, {name5}]\n",
    "\n",
    "print(names)\n"
   ]
  },
  {
   "cell_type": "markdown",
   "metadata": {},
   "source": [
    "### Exercise 2\n",
    "Print out a randomly selected name in the names list."
   ]
  },
  {
   "cell_type": "code",
   "execution_count": 11,
   "metadata": {},
   "outputs": [
    {
     "name": "stdout",
     "output_type": "stream",
     "text": [
      "{'Kiana'}\n"
     ]
    }
   ],
   "source": [
    "import random\n",
    "\n",
    "print(random.choice(names))\n"
   ]
  },
  {
   "cell_type": "markdown",
   "metadata": {},
   "source": [
    "### Exercise 3\n",
    "\n",
    "Ask a user for a specific color and store that value into a variable. If the answer is gray, print \"You found Victor's favorite color!\". If the answer is anything besides gray, print \"[color name] is not Victor's favorite color.\""
   ]
  },
  {
   "cell_type": "code",
   "execution_count": 52,
   "metadata": {},
   "outputs": [
    {
     "name": "stdout",
     "output_type": "stream",
     "text": [
      "What is Victor's favorite color? Green\n",
      "Green is not Victor's favorite color. \n"
     ]
    }
   ],
   "source": [
    "color = input(\"What is Victor's favorite color? \")\n",
    "\n",
    "if color == \"gray\" :\n",
    "    print(\"You found Victor's favorite color!\")\n",
    "else :\n",
    "    if color != \"gray\" :\n",
    "        print(f\"{color} is not Victor's favorite color. \")\n",
    "\n"
   ]
  },
  {
   "cell_type": "markdown",
   "metadata": {},
   "source": [
    "### Exercise 4\n",
    "Ask for an exam score and store that number. If the number is greater than 100, then print out 'You cannot have an exam score higher than 100'. If the number doesn't exceeed 100 but is greater than or equal to 75, then print out 'You did great on your exam!'. Otherwise if they scored lower than 75, then print out 'You need to study harder'."
   ]
  },
  {
   "cell_type": "code",
   "execution_count": 22,
   "metadata": {},
   "outputs": [
    {
     "name": "stdout",
     "output_type": "stream",
     "text": [
      "Enter your exam score: 103\n",
      "You can't have an exam score higher than 100\n"
     ]
    }
   ],
   "source": [
    "exam = int(input(\"Enter your exam score: \"))\n",
    "\n",
    "if exam < 75 :\n",
    "    print(\"You need to study harder.\")\n",
    "elif exam >= 75 and exam < 100:\n",
    "    print(\"You did great on your exam!\")\n",
    "elif exam > 100 :\n",
    "        print(\"You can't have an exam score higher than 100\")\n",
    "    "
   ]
  },
  {
   "cell_type": "markdown",
   "metadata": {},
   "source": [
    "### Exercise 5\n",
    "Write a function to convert a test score to a grade where  \n",
    " - 90 - 100: A\n",
    " - 80 - 89:  B\n",
    " - 70 - 79:  C\n",
    " - 60 - 69:  D\n",
    " - < 60   :  F\n",
    " \n",
    "If a score is not between 0 and 100 then print out an error message. In the program, ask the user for a score and then call your function. "
   ]
  },
  {
   "cell_type": "code",
   "execution_count": 34,
   "metadata": {},
   "outputs": [
    {
     "name": "stdout",
     "output_type": "stream",
     "text": [
      "Enter exam score: 76\n",
      "C\n"
     ]
    }
   ],
   "source": [
    "score = int(input(\"Enter exam score: \"))\n",
    "\n",
    "if score >= 90 and score <= 100 :\n",
    "    print(\"A\")\n",
    "elif score >= 80 and score <= 89 :\n",
    "    print(\"B\")\n",
    "elif score >= 70 and score <= 79 :\n",
    "    print(\"C\")    \n",
    "elif score >= 60 and score <= 69 :\n",
    "    print(\"D\")\n",
    "elif score < 60 and score >= 0 :\n",
    "    print(\"F\")    \n",
    "else :\n",
    "     if score < 0 and score > 100  :\n",
    "        print(\"Error. Please try again \")    \n",
    "       "
   ]
  },
  {
   "cell_type": "code",
   "execution_count": null,
   "metadata": {},
   "outputs": [],
   "source": []
  }
 ],
 "metadata": {
  "kernelspec": {
   "display_name": "Python 3 (ipykernel)",
   "language": "python",
   "name": "python3"
  },
  "language_info": {
   "codemirror_mode": {
    "name": "ipython",
    "version": 3
   },
   "file_extension": ".py",
   "mimetype": "text/x-python",
   "name": "python",
   "nbconvert_exporter": "python",
   "pygments_lexer": "ipython3",
   "version": "3.9.13"
  }
 },
 "nbformat": 4,
 "nbformat_minor": 4
}
